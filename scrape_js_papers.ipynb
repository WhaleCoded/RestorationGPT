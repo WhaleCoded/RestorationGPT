{
 "cells": [
  {
   "cell_type": "code",
   "execution_count": 1,
   "metadata": {},
   "outputs": [],
   "source": [
    "from bs4 import BeautifulSoup as bs\n",
    "import requests\n",
    "import json"
   ]
  },
  {
   "cell_type": "code",
   "execution_count": 2,
   "metadata": {},
   "outputs": [],
   "source": [
    "JS_PAPERS_URL = 'https://www.josephsmithpapers.org/the-papers/documents'"
   ]
  },
  {
   "cell_type": "code",
   "execution_count": 3,
   "metadata": {},
   "outputs": [],
   "source": [
    "parent_html = requests.get(JS_PAPERS_URL).text\n",
    "\n",
    "soup = bs(parent_html, \"html.parser\")\n",
    "\n",
    "soup = soup.find_all(\"a\", {\"class\": \"document-browser__link--menu\"}, href=True)\n",
    "\n",
    "document_category_urls = {}\n",
    "for a in soup:\n",
    "    if \"volume\" not in a[\"href\"]:\n",
    "        document_category_urls[a.text] = JS_PAPERS_URL + a[\"href\"]"
   ]
  },
  {
   "cell_type": "code",
   "execution_count": 4,
   "metadata": {},
   "outputs": [],
   "source": [
    "# Headers\n",
    "headers = {}\n",
    "# headers[\"Accept\"] = \"text/html,application/xhtml+xml,application/xml;q=0.9,image/avif,image/webp,image/apng,*/*;q=0.8,application/signed-exchange;v=b3;q=0.7\"\n",
    "headers[\"Cookie\"] = \"lds-youtube=true; TAsessionID=5533769a-1c99-4fd2-bcc6-ada392e26896|NEW; notice_behavior=implied|us; s_ips=948; AMCVS_66C5485451E56AAE0A490D45%40AdobeOrg=1; AMCV_66C5485451E56AAE0A490D45%40AdobeOrg=1176715910%7CMCIDTS%7C19456%7CMCMID%7C89507000606349031431620987572725332513%7CMCAAMLH-1681570594%7C9%7CMCAAMB-1681570594%7CRKhpRz8krg2tLO6pguXWp5olkAcUniQYPHaMWWgdJ3xzPWQmdj0y%7CMCOPTOUT-1680972994s%7CNONE%7CvVersion%7C5.4.0; s_cc=true; analytics_video_metadata_load=false; gpv_Page=documents; gpv_cURL=www.josephsmithpapers.org%2Fthe-papers%2Fdocuments; s_tp=948; s_ppv=documents%2C100%2C100%2C100%2C948%2C1%2C1; adcloud={%22_les_v%22:%22y%2Cjosephsmithpapers.org%2C1680967809%22}; s_plt=0.52; s_pltp=documents; s_sq=ldschurchofjesuschristprod%3D%2526c.%2526a.%2526activitymap.%2526page%253Ddocuments%2526link%253DDocuments%25252C%2525201827%2525E2%252580%2525931829%252520%25252835%252529%2526region%253DBODY%2526pageIDType%253D1%2526.activitymap%2526.a%2526.c%2526pid%253Ddocuments%2526pidt%253D1%2526oid%253Dhttps%25253A%25252F%25252Fwww.josephsmithpapers.org%25252Fthe-papers%25252Fdocuments%25252Fpre1830%2526ot%253DA\""
   ]
  },
  {
   "cell_type": "code",
   "execution_count": 13,
   "metadata": {},
   "outputs": [
    {
     "name": "stdout",
     "output_type": "stream",
     "text": [
      "\n",
      "\n",
      "\tDocuments, 1827–1829  (35) \n",
      " https://www.josephsmithpapers.org/the-papers/documents/the-papers/documents/pre1830\n",
      "Error\n"
     ]
    }
   ],
   "source": [
    "for category, url in document_category_urls.items():\n",
    "    print(category, url)\n",
    "    \n",
    "    document_category_html = requests.get(url, headers=headers).text\n",
    "    # print(document_category_html)\n",
    "    if \"Cannot read property &#x27;uri&#x27; of undefined\" in document_category_html:\n",
    "        print(\"Error\")\n",
    "    break\n",
    "    soup = bs(document_category_html, \"html.parser\")\n",
    "\n",
    "    soup = soup.find_all(\"a\", {\"class\": \"document-browser__link\"}, href=True)\n",
    "    print(len(soup))\n",
    "\n",
    "    document_urls = {}\n",
    "    for a in soup:\n",
    "        if \"volume\" not in a[\"href\"]:\n",
    "            document_urls[a.text] = JS_PAPERS_URL + a[\"href\"]\n",
    "\n",
    "    for document, url in document_urls.items():\n",
    "        print(document, url)\n",
    "        # document_html = requests.get(url, headers=headers).text\n",
    "        break\n",
    "    break"
   ]
  },
  {
   "cell_type": "code",
   "execution_count": 9,
   "metadata": {},
   "outputs": [
    {
     "ename": "NameError",
     "evalue": "name 'document_html' is not defined",
     "output_type": "error",
     "traceback": [
      "\u001b[0;31m---------------------------------------------------------------------------\u001b[0m",
      "\u001b[0;31mNameError\u001b[0m                                 Traceback (most recent call last)",
      "Cell \u001b[0;32mIn[9], line 1\u001b[0m\n\u001b[0;32m----> 1\u001b[0m \u001b[39mprint\u001b[39m(document_html)\n",
      "\u001b[0;31mNameError\u001b[0m: name 'document_html' is not defined"
     ]
    }
   ],
   "source": [
    "print(document_html)"
   ]
  },
  {
   "cell_type": "code",
   "execution_count": null,
   "metadata": {},
   "outputs": [],
   "source": [
    "\n",
    "\n",
    "def get_category_and_sub_category_hubs(parent_url) -> dict:\n",
    "    parent_html = requests.get(parent_url).text\n",
    "\n",
    "    soup = bs(parent_html, \"html.parser\")\n",
    "    soup = soup.find(\"div\", {\"class\": \"main-container container\"})\n",
    "    soup = soup.find(\"section\", {\"id\": \"block-system-main\"})\n",
    "    soup = soup.find(\"ul\", {\"class\": \"menu nav\"})\n",
    "\n",
    "    # Get all of the main categories of documents\n",
    "    urls_to_visit = {}\n",
    "    categories = soup.findChildren(\"li\", recursive=False)\n",
    "    for category in categories:\n",
    "        category_text = category.find(\"a\").text\n",
    "        category_name = category_text.split(\" (\")[0]\n",
    "        num_in_category = int(category_text.split(\" (\")[1].replace(\")\", \"\"))\n",
    "\n",
    "        category_href = parent_url.replace(\"/documents\", \"\") + category.find(\"a\")[\"href\"]\n",
    "        urls_to_visit[(category_name, None)] = category_href\n",
    "\n",
    "        # Get all of the subcategories of documents\n",
    "        sub_category_list = category.find(\"ul\", {\"class\": \"dropdown-menu\"})\n",
    "        if sub_category_list is not None:\n",
    "            sub_categories = sub_category_list.findChildren(\"li\", recursive=False)\n",
    "            for sub_category in sub_categories:\n",
    "                sub_category_text = sub_category.find(\"a\").text\n",
    "                sub_category_name = sub_category_text.split(\" (\")[0]\n",
    "                try:\n",
    "                    num_in_sub_category = int(sub_category_text.split(\" (\")[1].replace(\")\", \"\"))\n",
    "                except ValueError:\n",
    "                    num_in_sub_category = int(sub_category_text.split(\" (Radio and Webcast) (\")[1].replace(\")\", \"\"))\n",
    "\n",
    "                sub_category_href = parent_url.replace(\"/documents\", \"\") + sub_category.find(\"a\")[\"href\"]\n",
    "                urls_to_visit[(category_name, sub_category_name)] = sub_category_href\n",
    "\n",
    "    return urls_to_visit"
   ]
  }
 ],
 "metadata": {
  "kernelspec": {
   "display_name": "restoration_gpt",
   "language": "python",
   "name": "python3"
  },
  "language_info": {
   "codemirror_mode": {
    "name": "ipython",
    "version": 3
   },
   "file_extension": ".py",
   "mimetype": "text/x-python",
   "name": "python",
   "nbconvert_exporter": "python",
   "pygments_lexer": "ipython3",
   "version": "3.10.9"
  },
  "orig_nbformat": 4
 },
 "nbformat": 4,
 "nbformat_minor": 2
}
