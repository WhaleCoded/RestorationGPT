{
 "cells": [
  {
   "cell_type": "code",
   "execution_count": 48,
   "metadata": {},
   "outputs": [],
   "source": [
    "from selenium import webdriver\n",
    "from selenium.webdriver.common.by import By\n",
    "from selenium.webdriver.support.ui import WebDriverWait\n",
    "from selenium.webdriver.support import expected_conditions as EC\n",
    "\n",
    "import os"
   ]
  },
  {
   "cell_type": "code",
   "execution_count": 49,
   "metadata": {},
   "outputs": [],
   "source": [
    "DRIVER_PATH = \"/usr/lib/chromium-browser/chromedriver\"\n",
    "BASE_URL = \"https://www.josephsmithpapers.org\"\n",
    "SAVE_PATH = os.path.join(os.path.curdir, \"data\", \"js_papers\")\n",
    "CATEGORIES = [\"documents\", \"journals\", \"administrative-records\", \"revelations-and-translations\", \"histories\", \"legal-records\", \"financial-records\"]\n",
    "category_urls = [f\"{BASE_URL}/{category}\" for category in CATEGORIES]"
   ]
  },
  {
   "cell_type": "code",
   "execution_count": 50,
   "metadata": {},
   "outputs": [],
   "source": [
    "def get_document_sub_category_links(driver, page_url):\n",
    "    driver.get(page_url)\n",
    "    document_links = WebDriverWait(driver, 10).until(\n",
    "        EC.presence_of_all_elements_located((By.CLASS_NAME, \"document-browser__link--menu\"))\n",
    "    )\n",
    "    \n",
    "    links = []\n",
    "    for link in document_links:\n",
    "        href = link.get_attribute(\"href\")\n",
    "        sub_category = href.split(\"/\")[-1]\n",
    "        links.append((href, sub_category))\n",
    "    \n",
    "    return links"
   ]
  },
  {
   "cell_type": "code",
   "execution_count": 51,
   "metadata": {},
   "outputs": [],
   "source": [
    "def get_document_links(driver, page_url):\n",
    "    driver.get(page_url)\n",
    "    document_links = WebDriverWait(driver, 10).until(\n",
    "        EC.presence_of_all_elements_located((By.CLASS_NAME, \"document-browser__link\"))\n",
    "    )\n",
    "    \n",
    "    links = []\n",
    "    for link in document_links:\n",
    "        href = link.get_attribute(\"href\")\n",
    "        if \"paper-summary\" in href:            \n",
    "            links.append(href)  \n",
    "    \n",
    "    return links"
   ]
  },
  {
   "cell_type": "code",
   "execution_count": 52,
   "metadata": {},
   "outputs": [
    {
     "name": "stderr",
     "output_type": "stream",
     "text": [
      "/tmp/ipykernel_10359/152830826.py:3: DeprecationWarning: executable_path has been deprecated, please pass in a Service object\n",
      "  driver = webdriver.Chrome(executable_path=DRIVER_PATH, options=options)\n"
     ]
    }
   ],
   "source": [
    "options = webdriver.ChromeOptions()\n",
    "options.add_argument(\"--headless\")  # Run in headless mode, remove this line to see the browser in action\n",
    "driver = webdriver.Chrome(executable_path=DRIVER_PATH, options=options)"
   ]
  },
  {
   "cell_type": "code",
   "execution_count": 54,
   "metadata": {},
   "outputs": [
    {
     "ename": "TimeoutException",
     "evalue": "Message: \n",
     "output_type": "error",
     "traceback": [
      "\u001b[0;31m---------------------------------------------------------------------------\u001b[0m",
      "\u001b[0;31mTimeoutException\u001b[0m                          Traceback (most recent call last)",
      "Cell \u001b[0;32mIn[54], line 4\u001b[0m\n\u001b[1;32m      2\u001b[0m cat_index \u001b[39m=\u001b[39m \u001b[39m1\u001b[39m\n\u001b[1;32m      3\u001b[0m page_url \u001b[39m=\u001b[39m category_urls[cat_index]\n\u001b[0;32m----> 4\u001b[0m document_sub_category_links \u001b[39m=\u001b[39m get_document_sub_category_links(driver, page_url)\n\u001b[1;32m      5\u001b[0m \u001b[39mprint\u001b[39m(\u001b[39mlen\u001b[39m(document_sub_category_links))\n\u001b[1;32m      6\u001b[0m \u001b[39mprint\u001b[39m(document_sub_category_links)\n",
      "Cell \u001b[0;32mIn[50], line 3\u001b[0m, in \u001b[0;36mget_document_sub_category_links\u001b[0;34m(driver, page_url)\u001b[0m\n\u001b[1;32m      1\u001b[0m \u001b[39mdef\u001b[39;00m \u001b[39mget_document_sub_category_links\u001b[39m(driver, page_url):\n\u001b[1;32m      2\u001b[0m     driver\u001b[39m.\u001b[39mget(page_url)\n\u001b[0;32m----> 3\u001b[0m     document_links \u001b[39m=\u001b[39m WebDriverWait(driver, \u001b[39m10\u001b[39;49m)\u001b[39m.\u001b[39;49muntil(\n\u001b[1;32m      4\u001b[0m         EC\u001b[39m.\u001b[39;49mpresence_of_all_elements_located((By\u001b[39m.\u001b[39;49mCLASS_NAME, \u001b[39m\"\u001b[39;49m\u001b[39mdocument-browser__link--menu\u001b[39;49m\u001b[39m\"\u001b[39;49m))\n\u001b[1;32m      5\u001b[0m     )\n\u001b[1;32m      7\u001b[0m     links \u001b[39m=\u001b[39m []\n\u001b[1;32m      8\u001b[0m     \u001b[39mfor\u001b[39;00m link \u001b[39min\u001b[39;00m document_links:\n",
      "File \u001b[0;32m~/miniconda3/envs/restoration_gpt/lib/python3.10/site-packages/selenium/webdriver/support/wait.py:95\u001b[0m, in \u001b[0;36mWebDriverWait.until\u001b[0;34m(self, method, message)\u001b[0m\n\u001b[1;32m     93\u001b[0m     \u001b[39mif\u001b[39;00m time\u001b[39m.\u001b[39mmonotonic() \u001b[39m>\u001b[39m end_time:\n\u001b[1;32m     94\u001b[0m         \u001b[39mbreak\u001b[39;00m\n\u001b[0;32m---> 95\u001b[0m \u001b[39mraise\u001b[39;00m TimeoutException(message, screen, stacktrace)\n",
      "\u001b[0;31mTimeoutException\u001b[0m: Message: \n"
     ]
    }
   ],
   "source": [
    "# Get document category links\n",
    "cat_index = 1\n",
    "page_url = category_urls[cat_index]\n",
    "document_sub_category_links = get_document_sub_category_links(driver, page_url)\n",
    "print(len(document_sub_category_links))\n",
    "print(document_sub_category_links)\n"
   ]
  },
  {
   "cell_type": "code",
   "execution_count": null,
   "metadata": {},
   "outputs": [
    {
     "name": "stdout",
     "output_type": "stream",
     "text": [
      "26\n",
      "https://www.josephsmithpapers.org/paper-summary/receipt-from-joel-thayer-and-levi-thayer-10-march-1827\n"
     ]
    }
   ],
   "source": [
    "for link, sub_cat in document_sub_category_links:\n",
    "    actual_document_links = get_document_links(driver, link)\n",
    "    print(len(actual_document_links))\n",
    "    print(actual_document_links[0], sub_cat, CATEGORIES[cat_index])\n",
    "    break"
   ]
  }
 ],
 "metadata": {
  "kernelspec": {
   "display_name": "restoration_gpt",
   "language": "python",
   "name": "python3"
  },
  "language_info": {
   "codemirror_mode": {
    "name": "ipython",
    "version": 3
   },
   "file_extension": ".py",
   "mimetype": "text/x-python",
   "name": "python",
   "nbconvert_exporter": "python",
   "pygments_lexer": "ipython3",
   "version": "3.10.9"
  },
  "orig_nbformat": 4
 },
 "nbformat": 4,
 "nbformat_minor": 2
}
