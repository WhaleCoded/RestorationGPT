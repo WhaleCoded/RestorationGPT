{
 "cells": [
  {
   "cell_type": "code",
   "execution_count": 132,
   "metadata": {},
   "outputs": [],
   "source": [
    "import os\n",
    "import json\n",
    "import csv"
   ]
  },
  {
   "cell_type": "code",
   "execution_count": 133,
   "metadata": {},
   "outputs": [],
   "source": [
    "DATA_PATH = os.path.join(os.path.curdir, \"data\")\n",
    "SAVE_PATH = os.path.join(os.path.curdir, \"data\", \"training_formatted_data\")\n",
    "\n",
    "os.makedirs(SAVE_PATH, exist_ok=True)"
   ]
  },
  {
   "cell_type": "code",
   "execution_count": 134,
   "metadata": {},
   "outputs": [],
   "source": [
    "def find_text_files_in_dir(path):\n",
    "    text_files = []\n",
    "    sub_directories = []\n",
    "    for item_name in os.listdir(DATA_PATH):\n",
    "        item_path = os.path.join(DATA_PATH, item_name)\n",
    "        if item_name.endswith(\".txt\") and os.path.isfile(item_path):\n",
    "            text_files.append(item_path)\n",
    "        elif os.path.isdir(item_path):\n",
    "            sub_directories.append(item_path)\n",
    "\n",
    "    for sub_directory in sub_directories:\n",
    "        for item_name in os.listdir(sub_directory):\n",
    "            item_path = os.path.join(sub_directory, item_name)\n",
    "            if item_name.endswith(\".txt\") and os.path.isfile(item_path):\n",
    "                text_files.append(item_path)\n",
    "\n",
    "    return text_files"
   ]
  },
  {
   "cell_type": "code",
   "execution_count": 135,
   "metadata": {},
   "outputs": [],
   "source": [
    "text_file_paths = find_text_files_in_dir(DATA_PATH)"
   ]
  },
  {
   "cell_type": "code",
   "execution_count": 136,
   "metadata": {},
   "outputs": [
    {
     "name": "stdout",
     "output_type": "stream",
     "text": [
      "./data/saints_chapters/7_Keep_Up_Good_Courage.txt\n",
      "176\n"
     ]
    }
   ],
   "source": [
    "print(text_file_paths[0])\n",
    "print(len(text_file_paths))"
   ]
  },
  {
   "cell_type": "code",
   "execution_count": 137,
   "metadata": {},
   "outputs": [],
   "source": [
    "formatted_data = []"
   ]
  },
  {
   "cell_type": "code",
   "execution_count": 138,
   "metadata": {},
   "outputs": [
    {
     "name": "stdout",
     "output_type": "stream",
     "text": [
      "176\n"
     ]
    }
   ],
   "source": [
    "for text_file_path in text_file_paths:\n",
    "    with open(text_file_path, \"r\") as text_file:\n",
    "        text = text_file.read()\n",
    "        formatted_data.append({\"text\": text})\n",
    "\n",
    "print(len(formatted_data))"
   ]
  },
  {
   "cell_type": "code",
   "execution_count": 139,
   "metadata": {},
   "outputs": [
    {
     "name": "stdout",
     "output_type": "stream",
     "text": [
      "4051\n"
     ]
    }
   ],
   "source": [
    "# FORMAT SCRAPED DATA\n",
    "DC_DATA = os.path.join(DATA_PATH, \"dc\", \"scrape_dc.json\")\n",
    "TG_DATA = os.path.join(DATA_PATH, \"topical_guide\", \"scrape_tg.json\")\n",
    "CONF_DATA = os.path.join(DATA_PATH, \"conference_data\", \"conference_talks.json\")\n",
    "\n",
    "def format_json_entry(entry):\n",
    "    cleaned_text = \"\"\n",
    "\n",
    "    for key, value in entry.items():\n",
    "        cleaned_text += value + \"\\n\"\n",
    "\n",
    "    return cleaned_text\n",
    "\n",
    "with open(DC_DATA, \"r\") as dc_file:\n",
    "    dc_data = json.load(dc_file)\n",
    "    for entry in dc_data.values():\n",
    "        del entry[\"description\"]\n",
    "        formatted_data.append({\"text\": format_json_entry(entry)})\n",
    "\n",
    "with open(CONF_DATA, \"r\") as conf_file:\n",
    "    conf_data = json.load(conf_file)\n",
    "    for entry in conf_data.values():\n",
    "        formatted_data.append({\"text\": format_json_entry(entry)})\n",
    "\n",
    "print(len(formatted_data))"
   ]
  },
  {
   "cell_type": "code",
   "execution_count": 140,
   "metadata": {},
   "outputs": [],
   "source": [
    "TRAIN_SET_PATH = os.path.join(SAVE_PATH, \"train.json\")\n",
    "VALIDATION_SET_PATH = os.path.join(SAVE_PATH, \"validation.json\")"
   ]
  },
  {
   "cell_type": "code",
   "execution_count": 141,
   "metadata": {},
   "outputs": [],
   "source": [
    "# Randomly shuffle the data\n",
    "import random\n",
    "\n",
    "random.shuffle(formatted_data)"
   ]
  },
  {
   "cell_type": "code",
   "execution_count": 142,
   "metadata": {},
   "outputs": [
    {
     "name": "stdout",
     "output_type": "stream",
     "text": [
      "3848\n",
      "203\n"
     ]
    }
   ],
   "source": [
    "# Split the data into train and validation sets\n",
    "train_validation_split_index = int(len(formatted_data) * 0.95)\n",
    "train_set = formatted_data[: train_validation_split_index]\n",
    "print(len(train_set))\n",
    "validation_set = formatted_data[train_validation_split_index:]\n",
    "print(len(validation_set))"
   ]
  },
  {
   "cell_type": "code",
   "execution_count": 143,
   "metadata": {},
   "outputs": [
    {
     "name": "stdout",
     "output_type": "stream",
     "text": [
      "{'text': 'When Nicodemus came to Jesus early in the Savior’s ministry, he spoke for all of us when he said, “Rabbi, we know that thou art a teacher come from God.”1\\nChrist was, of course, much more than a teacher. He was the very Son of God, the Holy One of the eternal gospel plan, the Savior and Redeemer of the world.\\nBut Nicodemus was starting about the way you and I started, the way any child or young student or new convert begins—by recognizing and responding to a thrilling teacher who touches the innermost feelings of our heart.\\nIn recent months President Gordon B. Hinckley has called on us to hold our people close to the Church, especially the newly converted member. In issuing this call President Hinckley has reminded that we all need at least three things to remain firmly in the faith—a friend, a responsibility, and “[nourishing] by the good word of God.”2\\nInspired instruction in the home and in the Church helps provide this crucial element of nourishing by the good word of God. We are so grateful to all who teach. We love you and appreciate you more than we can say. We have great confidence in you. To teach effectively and to feel you are succeeding is demanding work indeed. But it is worth it. We can receive “no greater call.”3 Surely the opportunity to magnify that call exists everywhere. The need for it is everlasting. Fathers, mothers, siblings, friends, missionaries, home and visiting teachers, priesthood and auxiliary leaders, classroom instructors—each is, in his or her own way, “come from God” for our schooling and our salvation. In this Church it is virtually impossible to find anyone who is not a guide of one kind or another to his or her fellow members of the flock. Little wonder that Paul would say in his writings, “God hath set some in the church, first apostles, secondarily prophets, thirdly teachers.”4\\nFor each of us to “come unto Christ,”5 to keep His commandments and follow His example back to the Father is surely the highest and holiest purpose of human existence. To help others do that as well—to teach, persuade, and prayerfully lead them to walk that path of redemption also—surely that must be the second most significant task in our lives. Perhaps that is why President David O. McKay once said, “No greater responsibility can rest upon any man [or woman] than to be a teacher of God’s children.”6 We are, in fact, all somewhat like the man of Ethiopia to whom Philip was sent. Like him, we may know enough to reach out for religion. We may invest ourselves in the scriptures. We may even give up our earthly treasures, but without sufficient instruction we may miss the meaning of all this and the requirements that still lie before us. So we cry with this man of great authority, “How can [we understand,] except some [teacher] should guide [us]?”7\\nThe Apostle Paul taught: “For whosoever shall call upon the name of the Lord shall be saved.\\n“[But] how then shall they call on him in whom they have not believed? and how shall they believe in him of whom they have not heard?\\n“Faith cometh by hearing, and hearing by the word of God.”8\\nNow, at a time when our prophet is calling for more faith through hearing the word of God, we must revitalize and reenthrone superior teaching in the Church—at home, from the pulpit, in our administrative meetings, and surely in the classroom. Inspired teaching must never become a lost art in the Church, and we must make certain our quest for it does not become a lost tradition.\\nPresident Spencer W. Kimball once pled: “Stake presidents, bishops, and branch presidents, please take a particular interest in improving the quality of teaching in the Church. … I fear,” he said, “that all too often many of our members come to church, sit through a class or a meeting, and … then return home having been largely [uninspired]. It is especially unfortunate when this happens at a time … of stress, temptation, or crisis [in their life]. We all need to be touched and nurtured by the Spirit,” he said, “and effective teaching is one of the most important ways this can happen. We often do vigorous work,” President Kimball concluded, “to get members to come to Church but then do not adequately watch over what they receive when they do come.”9 On this subject President Hinckley himself has said, “Effective teaching is the very essence of leadership in the Church.” May I repeat that. “Effective teaching is the very essence of leadership in the Church. Eternal life,” President Hinckley continued, “will come only as men and women are taught with such effectiveness that they change and discipline their lives. They cannot be coerced into righteousness or into heaven. They must be led, and that means teaching.”10\\nAmong the last words the Savior said to His disciples and among the first words He says to us today are: “Go ye therefore, and teach all nations. … [Teach] them to observe all things whatsoever I have commanded you: and, lo, I am with you [always], even unto the end of the world.”11 To Peter, the apostolic leader of the Church, the resurrected and ascending Christ said, “Feed my lambs, … feed my sheep, … follow [thou] me.”12\\nIn all of this we must remember that the Lord has never given more emphatic counsel to the Church than that we are to teach the gospel “by the Spirit, even the Comforter which was sent forth to teach the truth.”\\nDo we teach the gospel “by the Spirit of truth?” He has inquired. Or do we teach it “some other way? And if it be by some other way,” He warns, “it is not of God.”13 In language echoing other commandments, He has said, “If ye receive not the Spirit ye shall not teach.”14\\nNo eternal learning can take place without that quickening of the Spirit from heaven. So, parents, teachers, and leaders, we must face our tasks the way Moses faced the promised land. Knowing he could not succeed any other way, Moses said to Jehovah, “If thy presence go not with me, carry us not up hence.”15\\nThat is what our members really want when they gather in a meeting or come into a classroom anyway. Most people don’t come to church looking merely for a few new gospel facts or to see old friends, though all of that is important. They come seeking a spiritual experience. They want peace. They want their faith fortified and their hope renewed. They want, in short, to be nourished by the good word of God, to be strengthened by the powers of heaven. Those of us who are called upon to speak or teach or lead have an obligation to help provide that, as best we possibly can. We can only do that if we ourselves are striving to know God, if we ourselves are continually seeking the light of His Only Begotten Son. Then, if our hearts are right, if we are as clean as we can be, if we have prayed and wept and prepared and worried until we don’t know what more we can do, God can say to us as He did to Alma and the sons of Mosiah: “Lift up thy head and rejoice. … I will give unto you success.”16\\nWe do have a legitimate worry about the new member, wanting each one to stay with us and enjoy the full blessings of the Church. I am just simple enough to think that if we continue to teach them—with the same Christlike spirit, conviction, doctrine, and personal interest the missionaries have shown them—new converts will not only stay with us but, quite literally, could not be kept away. The need for continuing such solid teaching is obvious. In times like ours we all need what Mormon called “the virtue of the word of God” because, he said, it “had [a] more powerful effect upon the minds of the people than the sword, or anything else, which had happened unto them.”17 When crises come in our lives—and they will—the philosophies of men interlaced with a few scriptures and poems just won’t do. Are we really nurturing our youth and our new members in a way that will sustain them when the stresses of life appear? Or are we giving them a kind of theological Twinkie—spiritually empty calories? President John Taylor once called such teaching “fried froth,” the kind of thing you could eat all day and yet finish feeling totally unsatisfied.18 During a severe winter several years ago, President Boyd K. Packer noted that a goodly number of deer had died of starvation while their stomachs were full of hay. In an honest effort to assist, agencies had supplied the superficial when the substantial was what had been needed. Regrettably they had fed the deer but they had not nourished them.\\nI love what President J. Reuben Clark said of our youth well over a half century ago. The same thing can be said of new members. “[They] are hungry for the things of the spirit,” he said; “they are eager to learn the Gospel, and they want it straight, undiluted. …\\n“… You do not have to sneak up behind [them] and whisper religion in [their] ears; … you can bring these truths [out] openly.”19\\nSatan is certainly not subtle in his teachings; why should we be? Whether we are instructing our children at home or standing before an audience in church, let us never make our faith difficult to detect. Remember—we are to be teachers “come from God.” Never sow seeds of doubt. Avoid self-serving performance and vanity. Prepare lessons well. Give scripturally based sermons. Teach the revealed doctrine. Bear heartfelt testimony. Pray and practice and try to improve. In our administrative meetings let us both “instruct and edify” as the revelations say, that even in these our teaching may ultimately be “from on high.”20 The Church will be the better for it, and so will you, for as Paul said to the Romans, “Thou therefore which teachest another, teachest thou not thyself?”21\\nA memorable account of the power of such teaching comes from the life of the prophet Jeremiah. This great man felt the way most teachers or speakers or Church officers feel when called—inexperienced, inadequate, frightened. “Ah, Lord,” he cried, “behold, I cannot speak: for I am [but] a child.”\\nBut the Lord reassured him: “Be not afraid of their faces: for I am with thee. … Therefore gird up thy loins, and arise, and speak unto them.”22\\nSo speak unto them he did, but initially not with much success. Things went from bad to worse until finally he was imprisoned and made a laughingstock among the people. Angry that he had been so mistreated and maligned, Jeremiah vowed, in effect, never to teach another lesson, whether that be to an investigator, Primary child, new convert, or—heaven forbid—the 15-year-olds. “I will not make mention of [the Lord], nor speak any more in his name,” the discouraged prophet said. But then came the turning point of Jeremiah’s life. Something had been happening with every testimony he had borne, every scripture he had read, every truth he had taught. Something had been happening that he hadn’t counted on. Even as he vowed to close his mouth and walk away from the Lord’s work, he found that he could not. Why? Because “his word was in mine heart as a burning fire shut up in my bones, and I was weary with forbearing, and I could not stay.”23\\nThat is what happens in the gospel to both the teacher and the taught. It is what happened to Nephi and Lehi when, the book of Helaman says, “the Holy Spirit of God did come down from heaven, and did enter into their hearts, and they were filled as if with fire, and they could speak forth marvelous words.”24 Surely it must have been that kind of heavenly joy Mary Magdalene experienced when near the Garden Tomb she unexpectedly beheld her beloved resurrected Lord and said to Him simply, “Rabboni,”25 which is to say, literally, “Teacher.”\\nFrom all of us who have been taught to all of you who teach—we say thank you, from the bottom of our hearts. May we exalt the teaching experience within the home and within the Church and improve our every effort to edify and instruct. In all of our meetings and all of our messages may we nourish by the good word of God. And may our children and new converts, our neighbors and new friends, say of our honest efforts, “Thou art a teacher come from God.” In the sacred name of the Master Teacher, Jesus Christ, amen.\\nJeffrey R. Holland\\n“A Teacher Come from God”\\n1998\\nSaturday Afternoon Session\\n'}\n",
      "{'text': 'Brothers and sisters, as I stand here in this inspiring worldwide general conference and feel your strength and your spirits, I cannot help but think of the words of the Apostle Peter: “[Lord], it is good for us to be here.”1\\nThat is not exactly what Alma said after preaching to the people in Ammonihah. Alma left the city due to the wickedness of the people. Soon an angel appeared to Alma and called him to “return to the city of Ammonihah, and preach again unto the people of the city.”2\\nAlma did so “speedily,” entering “the city by another way.”3\\n“As he entered the city he was an hungered, and he said to a man: Will ye give to an humble servant of God something to eat?\\n“And the man said unto him: I am a Nephite, and I know that thou art a holy prophet of God, for thou art the man whom an angel said in a vision: Thou shalt receive.”4\\nThe man was Amulek.\\nNow, did Alma just happen upon Amulek? No, it was no coincidence that he went into the city by the way that would lead him to this faithful man who would become his missionary companion.\\nElder Neal\\xa0A. Maxwell once explained: “None of us ever fully utilizes the people-opportunities allocated to us within our circles of friendship. You and I may call these intersectings ‘coincidence.’ This word is understandable for mortals to use, but coincidence is not an appropriate word to describe the workings of an omniscient God. He does not do things by ‘coincidence’ but … by ‘divine design.’”5\\nOur lives are like a chessboard, and the Lord moves us from one place to another—if we are responsive to spiritual promptings. Looking back, we can see His hand in our lives.\\nWe can see such heavenly intervention when Nephi returns to get the plates from Laban. He “was led by the Spirit, not knowing beforehand the things [that he] should do.”6 Laban was soon before him in a drunken stupor, and Nephi slew him, retrieved the plates, and fled back to his brothers. Was he fortunate to just happen upon Laban? Or was it by “divine design”?\\nSignificant events unfold in the gospel and in the Church that further the kingdom of God on earth. They are not by accident but by God’s plan. He who fashioned this world can calm the seas with His word and can steer both Alma and Amulek and Nephi and Laban to be at the right place at precisely the right time.\\nLikewise, events and associations unfold in each of our lives that further God’s work on earth.\\nDear Elder Joseph\\xa0B. Wirthlin spoke of an occasion when President Thomas\\xa0S. Monson said to him: “There is a guiding hand above all things. Often when things happen, it’s not by accident. One day, when we look back at the seeming coincidences of our lives, we will realize that perhaps they weren’t so coincidental after all.”7\\nMost often, our good works are known to only a few. They are, however, recorded in heaven. One day, we will stand as a witness of our whole-souled devotion to works of righteousness. No trial or calamity can derail God’s plan of happiness. Indeed, by “divine design,” “joy cometh in the morning.”8 “I came into the world to do the will of [the] Father,”9 Jesus taught. Dear brothers and sisters, so have we.\\nThrough the experience of my own life’s journey, I know that the Lord will move us on that seeming chessboard to do His work. What may appear to be a random chance is, in fact, overseen by a loving Father in Heaven, who can number the hairs of every head.10 Not even a sparrow falls to the ground without our Father’s notice.11 The Lord is in the small details of our lives, and those incidents and opportunities are to prepare us to lift our families and others as we build the kingdom of God on earth. Remember, as the Lord said to Abraham, “I know the end from the beginning; therefore my hand shall be over thee.”12\\nThe Lord placed me in a home with loving parents. By the world’s standards, they were very ordinary people; my father, a devoted man, was a truck driver; my angel mother, a stay-at-home mom. The Lord helped me find my lovely wife, Melanie; He prompted a businessman, who became a dear friend, to give me an employment opportunity. The Lord called me to serve in the mission field, both as a young man and as a mission president; He called me to the Quorum of the Seventy; and now He has called me as an Apostle. Looking back, I realize I did not orchestrate any of those moves; the Lord did, just as He is orchestrating important moves for you and for those you love.\\nWhat should you be looking for in your own life? What are God’s miracles that remind you that He is close, saying, “I am right here”? Think of those times, some daily, when the Lord has acted in your life—and then acted again. Treasure them as moments the Lord has shown confidence in you and in your choices. But allow Him to make more of you than you can make of yourself on your own. Treasure His involvement. Sometimes we consider changes in our plans as missteps on our journey. Think of them more as first steps to being “on the Lord’s errand.”13\\nSome months ago our granddaughter joined a youth group to tour several Church history sites. The final itinerary noted that she would be passing through the very area where her missionary brother, our grandson, was serving. Our granddaughter had no intention of seeing her brother on his mission. However, as the bus entered the town where her brother was serving, two missionaries could be seen walking down the street. One of the missionaries was her brother.\\nAnticipation filled the bus as the youth asked the bus driver to pull over so she could greet her brother. In less than one minute, after tears and sweet words, her brother was back on his way to fulfill his missionary duties. We later learned that her brother had been on that street for less than five minutes, walking from an appointment to his car.\\nHeavenly Father can put us in situations with specific intent in mind. He has done so in my life, and He is doing so in yours, as He did in the lives of our dear grandchildren.\\nEach of us is precious and loved by the Lord, who cares, who whispers, and who watches over us in ways unique to each of us. He is infinitely wiser and more powerful than mortal men and women. He knows our challenges, our triumphs, and the righteous desires of our hearts.\\nOver a year ago, as I was walking through Temple Square, one of the sister missionaries approached me and asked, “Do you remember me? I am from Florida.” She told me her name, Sister Aida Chilan. Yes, I remembered meeting her and her family. Her stake president had suggested we visit her family. It became apparent that we were there for their daughter Aida, who had not been baptized. After our visit and more than a year of teaching and fellowshipping, Aida was baptized.\\nAfter we visited on Temple Square, she wrote me a letter. She said: “I know with all my heart that Heavenly Father knows each of us and that He continues to place us in each other’s paths for a reason. Thank you for being one of my missionaries, for reaching out to me and finding me five years ago.”14 Aida also sent me her conversion story recounting the “divine coincidences” which have taken place in her life that have led to her baptism and confirmation, serving a mission on Temple Square, and her recent temple marriage.15\\nWas it a mere coincidence that the stake president had steered us to the Chilan home or that she and I would later meet on Temple Square? Aida’s testimony bears record that this was all part of God’s “divine design.”\\nThe Lord loves to be with us. It is no coincidence that when you are feeling His Spirit and acting on first promptings that you feel Him as He promised: “I will go before your face. I will be on your right hand and on your left, and my Spirit shall be in your hearts, and mine angels round about you, to bear you up.”16\\nWe all have similar things happen in our lives. We may meet someone who seems familiar, renew an acquaintance, or find common ground with a stranger. When those occur, perhaps the Lord is reminding us that we are all truly brothers and sisters. We are really engaged in the same cause—in what Joseph Smith called “the cause of Christ.”17\\nNow, where does our agency fit in a “divine design”? We have a choice to follow or to not follow our Savior and His chosen leaders. The pattern is clear in the Book of Mormon when the Nephites had turned away from the Lord. Mormon lamented:\\n“And they saw … that the Spirit of the Lord did no more preserve them; yea, it had withdrawn from them because the Spirit of the Lord doth not dwell in unholy temples—\\n“Therefore the Lord did cease to preserve them by his miraculous and matchless power, for they had fallen into a state of unbelief and awful wickedness.”18\\nNot all that the Lord asks of us is a result of how strong we are, how faithful we are, or what we may know. Think of Saul, whom the Lord stopped on the road to Damascus. He was going the wrong direction in his life, and it had nothing to do with north or south. Saul was divinely redirected. When he was known later as Paul, his apostolic ministry reflected what the Lord already knew he was capable of doing and becoming, not what he had set out to do as Saul. In the same manner, the Lord knows what each of us is capable of doing and becoming. What did the Apostle Paul teach? “And we know that all things work together for good to them that love God, to them who are the called according to his purpose.”19\\nWhen we are righteous, willing, and able, when we are striving to be worthy and qualified, we progress to places we never imagined and become part of Heavenly Father’s “divine design.” Each of us has divinity within us. When we see God working through us and with us, may we be encouraged, even grateful for that guidance. When our Father in Heaven said, “This is my work and my glory—to bring to pass the immortality and eternal life of man,”20 He was talking about all of His children—you in particular.\\nThe Lord’s hand is guiding you. By “divine design,” He is in the small details of your life as well as the major milestones. As it says in Proverbs, “Trust in the Lord with all thine heart; … and he shall direct thy paths.”21 I testify that He will bless you, sustain you, and bring you peace. In the name of Jesus Christ, amen.\\nBy Elder Ronald\\xa0A. Rasband\\nBy Divine Design\\n2017\\nSaturday Afternoon Session\\n'}\n"
     ]
    }
   ],
   "source": [
    "print(train_set[0])\n",
    "print(validation_set[0])"
   ]
  },
  {
   "cell_type": "code",
   "execution_count": 144,
   "metadata": {},
   "outputs": [],
   "source": [
    "with open(os.path.join(TRAIN_SET_PATH), \"w+\") as train_file:\n",
    "    json.dump(train_set, train_file)"
   ]
  },
  {
   "cell_type": "code",
   "execution_count": 145,
   "metadata": {},
   "outputs": [],
   "source": [
    "with open(os.path.join(VALIDATION_SET_PATH), \"w+\") as validation_file:\n",
    "    json.dump(validation_set, validation_file)"
   ]
  }
 ],
 "metadata": {
  "kernelspec": {
   "display_name": "restoration_gpt",
   "language": "python",
   "name": "python3"
  },
  "language_info": {
   "codemirror_mode": {
    "name": "ipython",
    "version": 3
   },
   "file_extension": ".py",
   "mimetype": "text/x-python",
   "name": "python",
   "nbconvert_exporter": "python",
   "pygments_lexer": "ipython3",
   "version": "3.10.9"
  },
  "orig_nbformat": 4
 },
 "nbformat": 4,
 "nbformat_minor": 2
}
