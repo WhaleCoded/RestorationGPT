{
 "cells": [
  {
   "cell_type": "code",
   "execution_count": 14,
   "metadata": {},
   "outputs": [],
   "source": [
    "from bs4 import BeautifulSoup as bs\n",
    "import requests\n",
    "import json\n",
    "import os\n",
    "from tqdm import tqdm"
   ]
  },
  {
   "cell_type": "code",
   "execution_count": 15,
   "metadata": {},
   "outputs": [],
   "source": [
    "SAVE_PATH = os.path.join(os.path.curdir, \"data\", \"topical_guide\", \"scrape_tg.json\")"
   ]
  },
  {
   "cell_type": "code",
   "execution_count": 16,
   "metadata": {},
   "outputs": [],
   "source": [
    "BASE_URL = 'https://www.churchofjesuschrist.org/study/scriptures/tg'\n",
    "LANGUAGE_QUERY = '?lang=eng'\n",
    "DC_SECTIONS = range(1, 138)"
   ]
  },
  {
   "cell_type": "code",
   "execution_count": 17,
   "metadata": {},
   "outputs": [],
   "source": [
    "dc_data = {}"
   ]
  },
  {
   "cell_type": "code",
   "execution_count": 18,
   "metadata": {},
   "outputs": [
    {
     "name": "stderr",
     "output_type": "stream",
     "text": [
      "100%|██████████| 137/137 [00:39<00:00,  3.43it/s]\n"
     ]
    }
   ],
   "source": [
    "for section in tqdm(DC_SECTIONS):\n",
    "    url = BASE_URL + str(section) + LANGUAGE_QUERY\n",
    "    response = requests.get(url)\n",
    "    soup = bs(response.text, 'html.parser')\n",
    "    verses = soup.find_all('p', class_='verse')\n",
    "    cleaned_verses = [verse.text for verse in verses]\n",
    "    combined_verses = '/n'.join(cleaned_verses)\n",
    "    # print(combined_verses)\n",
    "\n",
    "    header_soup = soup.find(\"body\").find(\"header\")\n",
    "    print(header_soup.text)\n",
    "    break\n",
    "    description = header_soup.find_all(\"p\")\n",
    "    description = [p.text for p in description]\n",
    "    description = '/n'.join(description)\n",
    "\n",
    "    dc_data[section] = {\"description\": description, \"verses\": combined_verses}"
   ]
  },
  {
   "cell_type": "code",
   "execution_count": 21,
   "metadata": {},
   "outputs": [],
   "source": [
    "os.makedirs(os.path.dirname(SAVE_PATH), exist_ok=True)\n",
    "\n",
    "with open(SAVE_PATH, 'w+') as f:\n",
    "    json.dump(dc_data, f)"
   ]
  },
  {
   "cell_type": "code",
   "execution_count": null,
   "metadata": {},
   "outputs": [],
   "source": [
    "# Error checking\n",
    "for section in dc_data:\n",
    "    if len(dc_data[section]['verses']) == 0:\n",
    "        print(section)"
   ]
  }
 ],
 "metadata": {
  "kernelspec": {
   "display_name": "restoration_gpt",
   "language": "python",
   "name": "python3"
  },
  "language_info": {
   "codemirror_mode": {
    "name": "ipython",
    "version": 3
   },
   "file_extension": ".py",
   "mimetype": "text/x-python",
   "name": "python",
   "nbconvert_exporter": "python",
   "pygments_lexer": "ipython3",
   "version": "3.10.9"
  },
  "orig_nbformat": 4
 },
 "nbformat": 4,
 "nbformat_minor": 2
}
