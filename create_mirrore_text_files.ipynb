{
 "cells": [
  {
   "cell_type": "code",
   "execution_count": 12,
   "metadata": {},
   "outputs": [],
   "source": [
    "import os\n"
   ]
  },
  {
   "cell_type": "code",
   "execution_count": 13,
   "metadata": {},
   "outputs": [],
   "source": [
    "ROOT_PATH = \"/home/dallin/Downloads/\"\n",
    "DESTINATION_PATH = os.path.join(os.path.curdir, \"data\", \"gospel_topics\")\n",
    "\n",
    "os.makedirs(DESTINATION_PATH, exist_ok=True)"
   ]
  },
  {
   "cell_type": "code",
   "execution_count": 14,
   "metadata": {},
   "outputs": [],
   "source": [
    "files_in_root = [f for f in os.listdir(ROOT_PATH) if os.path.isfile(os.path.join(ROOT_PATH, f))]\n",
    "new_file_paths = []\n",
    "for file in files_in_root:\n",
    "    new_file_name = file.replace(\" \", \"_\")\n",
    "    new_file_name = new_file_name.split(\".\")[0] + \".txt\"\n",
    "\n",
    "    new_file_path = os.path.join(DESTINATION_PATH, new_file_name)\n",
    "    new_file_paths.append(new_file_path)"
   ]
  },
  {
   "cell_type": "code",
   "execution_count": 15,
   "metadata": {},
   "outputs": [],
   "source": [
    "for file_path in new_file_paths:\n",
    "    with open(file_path, \"w\") as f:\n",
    "        f.write(\"\")"
   ]
  }
 ],
 "metadata": {
  "kernelspec": {
   "display_name": "restoration_gpt",
   "language": "python",
   "name": "python3"
  },
  "language_info": {
   "codemirror_mode": {
    "name": "ipython",
    "version": 3
   },
   "file_extension": ".py",
   "mimetype": "text/x-python",
   "name": "python",
   "nbconvert_exporter": "python",
   "pygments_lexer": "ipython3",
   "version": "3.10.9"
  },
  "orig_nbformat": 4
 },
 "nbformat": 4,
 "nbformat_minor": 2
}
